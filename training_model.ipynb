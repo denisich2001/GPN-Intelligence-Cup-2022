{
 "cells": [
  {
   "cell_type": "code",
   "execution_count": 298,
   "id": "2490bad9",
   "metadata": {},
   "outputs": [],
   "source": [
    "import pandas as pd\n",
    "import numpy as np\n",
    "import matplotlib.pyplot as plt\n",
    "import seaborn as sns\n",
    "\n",
    "pd.set_option('display.float_format', lambda x: '%.6f' %x)"
   ]
  },
  {
   "cell_type": "code",
   "execution_count": 299,
   "id": "39cb8c3b",
   "metadata": {},
   "outputs": [],
   "source": [
    "df_onehot = pd.read_csv('df_onehot.csv') "
   ]
  },
  {
   "cell_type": "code",
   "execution_count": 300,
   "id": "c64bb3e2",
   "metadata": {},
   "outputs": [
    {
     "data": {
      "text/plain": [
       "Index(['date', 'volume_litr', 'alcohol', '0', '1', '2', '3', '4', '5', '6',\n",
       "       ...\n",
       "       'month_2', 'month_3', 'month_4', 'month_5', 'month_6', 'month_7',\n",
       "       'month_8', 'month_9', 'month_10', 'month_11'],\n",
       "      dtype='object', length=101)"
      ]
     },
     "execution_count": 300,
     "metadata": {},
     "output_type": "execute_result"
    }
   ],
   "source": [
    "df_onehot.columns"
   ]
  },
  {
   "cell_type": "markdown",
   "id": "0ed4b946",
   "metadata": {},
   "source": [
    "### Проведем стандартизацию и разделим на тренировочную и тестовую выборки"
   ]
  },
  {
   "cell_type": "code",
   "execution_count": 301,
   "id": "a61c6315",
   "metadata": {},
   "outputs": [],
   "source": [
    "from sklearn.model_selection import train_test_split\n",
    "from sklearn import preprocessing"
   ]
  },
  {
   "cell_type": "code",
   "execution_count": 302,
   "id": "31585ad2",
   "metadata": {},
   "outputs": [],
   "source": [
    "y = df_onehot['effect_volume']\n",
    "x = df_onehot.drop('effect_volume', axis = 1)"
   ]
  },
  {
   "cell_type": "code",
   "execution_count": 303,
   "id": "de7f9f50",
   "metadata": {},
   "outputs": [],
   "source": [
    "norm = preprocessing.StandardScaler()\n",
    "\n",
    "x_norm = norm.fit_transform(x)\n",
    "\n",
    "x = pd.DataFrame(x_norm, columns = x.columns)"
   ]
  },
  {
   "cell_type": "code",
   "execution_count": 304,
   "id": "add8e480",
   "metadata": {},
   "outputs": [],
   "source": [
    "x_train, x_test, y_train, y_test = train_test_split(x, y, test_size = 0.25, random_state = 42)"
   ]
  },
  {
   "cell_type": "markdown",
   "id": "8216edd7",
   "metadata": {},
   "source": [
    "### Обучаем модель"
   ]
  },
  {
   "cell_type": "code",
   "execution_count": 305,
   "id": "38e4b04d",
   "metadata": {},
   "outputs": [],
   "source": [
    "from sklearn.metrics import r2_score\n",
    "from sklearn.metrics import mean_absolute_error\n",
    "from sklearn.model_selection import GridSearchCV\n",
    "from sklearn.model_selection import KFold"
   ]
  },
  {
   "cell_type": "markdown",
   "id": "314f0006",
   "metadata": {},
   "source": [
    "### Линейная регрессия"
   ]
  },
  {
   "cell_type": "code",
   "execution_count": 306,
   "id": "75cb7d3b",
   "metadata": {},
   "outputs": [],
   "source": [
    "from sklearn.linear_model import LinearRegression"
   ]
  },
  {
   "cell_type": "markdown",
   "id": "da79f8fc",
   "metadata": {},
   "source": [
    "**Обучаем модель на x_onehot**"
   ]
  },
  {
   "cell_type": "code",
   "execution_count": 307,
   "id": "b51ccb94",
   "metadata": {},
   "outputs": [
    {
     "data": {
      "text/html": [
       "<style>#sk-container-id-6 {color: black;background-color: white;}#sk-container-id-6 pre{padding: 0;}#sk-container-id-6 div.sk-toggleable {background-color: white;}#sk-container-id-6 label.sk-toggleable__label {cursor: pointer;display: block;width: 100%;margin-bottom: 0;padding: 0.3em;box-sizing: border-box;text-align: center;}#sk-container-id-6 label.sk-toggleable__label-arrow:before {content: \"▸\";float: left;margin-right: 0.25em;color: #696969;}#sk-container-id-6 label.sk-toggleable__label-arrow:hover:before {color: black;}#sk-container-id-6 div.sk-estimator:hover label.sk-toggleable__label-arrow:before {color: black;}#sk-container-id-6 div.sk-toggleable__content {max-height: 0;max-width: 0;overflow: hidden;text-align: left;background-color: #f0f8ff;}#sk-container-id-6 div.sk-toggleable__content pre {margin: 0.2em;color: black;border-radius: 0.25em;background-color: #f0f8ff;}#sk-container-id-6 input.sk-toggleable__control:checked~div.sk-toggleable__content {max-height: 200px;max-width: 100%;overflow: auto;}#sk-container-id-6 input.sk-toggleable__control:checked~label.sk-toggleable__label-arrow:before {content: \"▾\";}#sk-container-id-6 div.sk-estimator input.sk-toggleable__control:checked~label.sk-toggleable__label {background-color: #d4ebff;}#sk-container-id-6 div.sk-label input.sk-toggleable__control:checked~label.sk-toggleable__label {background-color: #d4ebff;}#sk-container-id-6 input.sk-hidden--visually {border: 0;clip: rect(1px 1px 1px 1px);clip: rect(1px, 1px, 1px, 1px);height: 1px;margin: -1px;overflow: hidden;padding: 0;position: absolute;width: 1px;}#sk-container-id-6 div.sk-estimator {font-family: monospace;background-color: #f0f8ff;border: 1px dotted black;border-radius: 0.25em;box-sizing: border-box;margin-bottom: 0.5em;}#sk-container-id-6 div.sk-estimator:hover {background-color: #d4ebff;}#sk-container-id-6 div.sk-parallel-item::after {content: \"\";width: 100%;border-bottom: 1px solid gray;flex-grow: 1;}#sk-container-id-6 div.sk-label:hover label.sk-toggleable__label {background-color: #d4ebff;}#sk-container-id-6 div.sk-serial::before {content: \"\";position: absolute;border-left: 1px solid gray;box-sizing: border-box;top: 0;bottom: 0;left: 50%;z-index: 0;}#sk-container-id-6 div.sk-serial {display: flex;flex-direction: column;align-items: center;background-color: white;padding-right: 0.2em;padding-left: 0.2em;position: relative;}#sk-container-id-6 div.sk-item {position: relative;z-index: 1;}#sk-container-id-6 div.sk-parallel {display: flex;align-items: stretch;justify-content: center;background-color: white;position: relative;}#sk-container-id-6 div.sk-item::before, #sk-container-id-6 div.sk-parallel-item::before {content: \"\";position: absolute;border-left: 1px solid gray;box-sizing: border-box;top: 0;bottom: 0;left: 50%;z-index: -1;}#sk-container-id-6 div.sk-parallel-item {display: flex;flex-direction: column;z-index: 1;position: relative;background-color: white;}#sk-container-id-6 div.sk-parallel-item:first-child::after {align-self: flex-end;width: 50%;}#sk-container-id-6 div.sk-parallel-item:last-child::after {align-self: flex-start;width: 50%;}#sk-container-id-6 div.sk-parallel-item:only-child::after {width: 0;}#sk-container-id-6 div.sk-dashed-wrapped {border: 1px dashed gray;margin: 0 0.4em 0.5em 0.4em;box-sizing: border-box;padding-bottom: 0.4em;background-color: white;}#sk-container-id-6 div.sk-label label {font-family: monospace;font-weight: bold;display: inline-block;line-height: 1.2em;}#sk-container-id-6 div.sk-label-container {text-align: center;}#sk-container-id-6 div.sk-container {/* jupyter's `normalize.less` sets `[hidden] { display: none; }` but bootstrap.min.css set `[hidden] { display: none !important; }` so we also need the `!important` here to be able to override the default hidden behavior on the sphinx rendered scikit-learn.org. See: https://github.com/scikit-learn/scikit-learn/issues/21755 */display: inline-block !important;position: relative;}#sk-container-id-6 div.sk-text-repr-fallback {display: none;}</style><div id=\"sk-container-id-6\" class=\"sk-top-container\"><div class=\"sk-text-repr-fallback\"><pre>LinearRegression()</pre><b>In a Jupyter environment, please rerun this cell to show the HTML representation or trust the notebook. <br />On GitHub, the HTML representation is unable to render, please try loading this page with nbviewer.org.</b></div><div class=\"sk-container\" hidden><div class=\"sk-item\"><div class=\"sk-estimator sk-toggleable\"><input class=\"sk-toggleable__control sk-hidden--visually\" id=\"sk-estimator-id-6\" type=\"checkbox\" checked><label for=\"sk-estimator-id-6\" class=\"sk-toggleable__label sk-toggleable__label-arrow\">LinearRegression</label><div class=\"sk-toggleable__content\"><pre>LinearRegression()</pre></div></div></div></div></div>"
      ],
      "text/plain": [
       "LinearRegression()"
      ]
     },
     "execution_count": 307,
     "metadata": {},
     "output_type": "execute_result"
    }
   ],
   "source": [
    "model = LinearRegression()\n",
    "model.fit(x_train, y_train)"
   ]
  },
  {
   "cell_type": "code",
   "execution_count": 308,
   "id": "7c2d6f99",
   "metadata": {},
   "outputs": [],
   "source": [
    "y_pred = model.predict(x_test)"
   ]
  },
  {
   "cell_type": "markdown",
   "id": "5dfd6624",
   "metadata": {},
   "source": [
    "**Качество модели**"
   ]
  },
  {
   "cell_type": "code",
   "execution_count": 309,
   "id": "2c0bca58",
   "metadata": {},
   "outputs": [
    {
     "name": "stdout",
     "output_type": "stream",
     "text": [
      "R^2 на тренировочной выборке: 0.05344655323826797\n",
      "R^2 на тестовой выборке: 0.052612745225452895\n"
     ]
    }
   ],
   "source": [
    "print('R^2 на тренировочной выборке: {0}'.format(model.score(x_train,y_train)))\n",
    "print('R^2 на тестовой выборке: {0}'.format(model.score(x_test,y_test)))"
   ]
  },
  {
   "cell_type": "markdown",
   "id": "65046e1d",
   "metadata": {},
   "source": [
    "## Случайный лес"
   ]
  },
  {
   "cell_type": "code",
   "execution_count": 310,
   "id": "427fb2e5",
   "metadata": {},
   "outputs": [],
   "source": [
    "from sklearn.ensemble import RandomForestRegressor"
   ]
  },
  {
   "cell_type": "code",
   "execution_count": 311,
   "id": "c7188f77",
   "metadata": {},
   "outputs": [],
   "source": [
    "param_grid_rf = {'n_estimators':range(30,120,10), 'max_depth':range(3,5), 'min_samples_split':range(7,9)}\n",
    "\n",
    "kfold  = KFold(n_splits = 5, shuffle = True, random_state = 42)\n",
    "\n",
    "rf_onehot = RandomForestRegressor(random_state = 42, oob_score = True, verbose = 1)\n",
    "\n",
    "grid_search_rf = GridSearchCV(rf_onehot, param_grid_rf, verbose = 4, cv = kfold, scoring = 'r2', n_jobs = -1)"
   ]
  },
  {
   "cell_type": "code",
   "execution_count": 312,
   "id": "d28b18ba",
   "metadata": {
    "scrolled": true
   },
   "outputs": [
    {
     "name": "stdout",
     "output_type": "stream",
     "text": [
      "Fitting 5 folds for each of 36 candidates, totalling 180 fits\n"
     ]
    },
    {
     "name": "stderr",
     "output_type": "stream",
     "text": [
      "[Parallel(n_jobs=1)]: Using backend SequentialBackend with 1 concurrent workers.\n",
      "[Parallel(n_jobs=1)]: Done  30 out of  30 | elapsed:    2.3s finished\n"
     ]
    }
   ],
   "source": [
    "grid_result_rf = grid_search_rf.fit(x_train, y_train)"
   ]
  },
  {
   "cell_type": "code",
   "execution_count": 313,
   "id": "92a82154",
   "metadata": {},
   "outputs": [
    {
     "data": {
      "text/plain": [
       "0.20019754425592523"
      ]
     },
     "execution_count": 313,
     "metadata": {},
     "output_type": "execute_result"
    }
   ],
   "source": [
    "grid_result_rf.best_score_"
   ]
  },
  {
   "cell_type": "code",
   "execution_count": 314,
   "id": "f42580b6",
   "metadata": {},
   "outputs": [
    {
     "data": {
      "text/plain": [
       "{'max_depth': 4, 'min_samples_split': 8, 'n_estimators': 30}"
      ]
     },
     "execution_count": 314,
     "metadata": {},
     "output_type": "execute_result"
    }
   ],
   "source": [
    "grid_result_rf.best_params_"
   ]
  },
  {
   "cell_type": "code",
   "execution_count": 315,
   "id": "24eadc39",
   "metadata": {},
   "outputs": [],
   "source": [
    "rf = grid_search_rf.best_estimator_"
   ]
  },
  {
   "cell_type": "markdown",
   "id": "10530fd9",
   "metadata": {},
   "source": [
    "**Результаты предсказания**"
   ]
  },
  {
   "cell_type": "code",
   "execution_count": 316,
   "id": "bf38f902",
   "metadata": {},
   "outputs": [
    {
     "name": "stderr",
     "output_type": "stream",
     "text": [
      "[Parallel(n_jobs=1)]: Using backend SequentialBackend with 1 concurrent workers.\n",
      "[Parallel(n_jobs=1)]: Done  30 out of  30 | elapsed:    0.0s finished\n",
      "[Parallel(n_jobs=1)]: Using backend SequentialBackend with 1 concurrent workers.\n",
      "[Parallel(n_jobs=1)]: Done  30 out of  30 | elapsed:    0.0s finished\n"
     ]
    }
   ],
   "source": [
    "y_pred = rf.predict(x_test)\n",
    "y_pred_train = rf.predict(x_train)"
   ]
  },
  {
   "cell_type": "code",
   "execution_count": 317,
   "id": "46d09aed",
   "metadata": {},
   "outputs": [
    {
     "name": "stdout",
     "output_type": "stream",
     "text": [
      "R^2 на прогнозе: 0.17138992122412577\n",
      "MAE на прогнозе: 1.644147763134157\n",
      "R^2 на тренировочной выборке: 0.2454494139360326\n",
      "MAE на тренировочной выборке: 1.618637586674039\n"
     ]
    }
   ],
   "source": [
    "print ('R^2 на прогнозе: {0}'.format(r2_score(y_test, y_pred)))\n",
    "print ('MAE на прогнозе: {0}'.format(mean_absolute_error(y_test, y_pred)))\n",
    "print ('R^2 на тренировочной выборке: {0}'.format(r2_score(y_train, y_pred_train)))\n",
    "print ('MAE на тренировочной выборке: {0}'.format(mean_absolute_error(y_train, y_pred_train)))"
   ]
  },
  {
   "cell_type": "code",
   "execution_count": 318,
   "id": "9b00148f",
   "metadata": {
    "scrolled": true
   },
   "outputs": [
    {
     "data": {
      "text/html": [
       "<div>\n",
       "<style scoped>\n",
       "    .dataframe tbody tr th:only-of-type {\n",
       "        vertical-align: middle;\n",
       "    }\n",
       "\n",
       "    .dataframe tbody tr th {\n",
       "        vertical-align: top;\n",
       "    }\n",
       "\n",
       "    .dataframe thead th {\n",
       "        text-align: right;\n",
       "    }\n",
       "</style>\n",
       "<table border=\"1\" class=\"dataframe\">\n",
       "  <thead>\n",
       "    <tr style=\"text-align: right;\">\n",
       "      <th></th>\n",
       "      <th>feature</th>\n",
       "      <th>importance</th>\n",
       "    </tr>\n",
       "  </thead>\n",
       "  <tbody>\n",
       "    <tr>\n",
       "      <th>0</th>\n",
       "      <td>date</td>\n",
       "      <td>0.280858</td>\n",
       "    </tr>\n",
       "    <tr>\n",
       "      <th>1</th>\n",
       "      <td>volume_litr</td>\n",
       "      <td>0.214902</td>\n",
       "    </tr>\n",
       "    <tr>\n",
       "      <th>76</th>\n",
       "      <td>city_Нью-Йорк</td>\n",
       "      <td>0.154916</td>\n",
       "    </tr>\n",
       "    <tr>\n",
       "      <th>52</th>\n",
       "      <td>49</td>\n",
       "      <td>0.152633</td>\n",
       "    </tr>\n",
       "    <tr>\n",
       "      <th>82</th>\n",
       "      <td>product_Сливочное пиво</td>\n",
       "      <td>0.044988</td>\n",
       "    </tr>\n",
       "    <tr>\n",
       "      <th>74</th>\n",
       "      <td>city_Литтл Уингинг</td>\n",
       "      <td>0.039452</td>\n",
       "    </tr>\n",
       "    <tr>\n",
       "      <th>68</th>\n",
       "      <td>city_Абердин</td>\n",
       "      <td>0.028226</td>\n",
       "    </tr>\n",
       "    <tr>\n",
       "      <th>21</th>\n",
       "      <td>18</td>\n",
       "      <td>0.020543</td>\n",
       "    </tr>\n",
       "    <tr>\n",
       "      <th>2</th>\n",
       "      <td>alcohol</td>\n",
       "      <td>0.019174</td>\n",
       "    </tr>\n",
       "    <tr>\n",
       "      <th>69</th>\n",
       "      <td>city_Авимор</td>\n",
       "      <td>0.016527</td>\n",
       "    </tr>\n",
       "  </tbody>\n",
       "</table>\n",
       "</div>"
      ],
      "text/plain": [
       "                   feature  importance\n",
       "0                     date    0.280858\n",
       "1              volume_litr    0.214902\n",
       "76           city_Нью-Йорк    0.154916\n",
       "52                      49    0.152633\n",
       "82  product_Сливочное пиво    0.044988\n",
       "74      city_Литтл Уингинг    0.039452\n",
       "68            city_Абердин    0.028226\n",
       "21                      18    0.020543\n",
       "2                  alcohol    0.019174\n",
       "69             city_Авимор    0.016527"
      ]
     },
     "execution_count": 318,
     "metadata": {},
     "output_type": "execute_result"
    }
   ],
   "source": [
    "importances = rf.feature_importances_\n",
    "features = x.columns\n",
    "\n",
    "pd.DataFrame({features[i]:importances[i] for i in range(len(features))}.items(), columns = ['feature','importance']).sort_values(by = 'importance', ascending = False)[:10]"
   ]
  },
  {
   "cell_type": "markdown",
   "id": "22638761",
   "metadata": {},
   "source": [
    "Объединим столбцы из одних категорий (акции, продукты, города)"
   ]
  },
  {
   "cell_type": "code",
   "execution_count": 319,
   "id": "2048d6c4",
   "metadata": {},
   "outputs": [
    {
     "data": {
      "text/html": [
       "<div>\n",
       "<style scoped>\n",
       "    .dataframe tbody tr th:only-of-type {\n",
       "        vertical-align: middle;\n",
       "    }\n",
       "\n",
       "    .dataframe tbody tr th {\n",
       "        vertical-align: top;\n",
       "    }\n",
       "\n",
       "    .dataframe thead th {\n",
       "        text-align: right;\n",
       "    }\n",
       "</style>\n",
       "<table border=\"1\" class=\"dataframe\">\n",
       "  <thead>\n",
       "    <tr style=\"text-align: right;\">\n",
       "      <th></th>\n",
       "      <th>feature</th>\n",
       "      <th>importance</th>\n",
       "    </tr>\n",
       "  </thead>\n",
       "  <tbody>\n",
       "    <tr>\n",
       "      <th>0</th>\n",
       "      <td>products</td>\n",
       "      <td>0.055909</td>\n",
       "    </tr>\n",
       "    <tr>\n",
       "      <th>1</th>\n",
       "      <td>cities</td>\n",
       "      <td>0.239198</td>\n",
       "    </tr>\n",
       "    <tr>\n",
       "      <th>2</th>\n",
       "      <td>promos</td>\n",
       "      <td>0.189731</td>\n",
       "    </tr>\n",
       "    <tr>\n",
       "      <th>3</th>\n",
       "      <td>months</td>\n",
       "      <td>0.000228</td>\n",
       "    </tr>\n",
       "    <tr>\n",
       "      <th>4</th>\n",
       "      <td>date</td>\n",
       "      <td>0.280858</td>\n",
       "    </tr>\n",
       "    <tr>\n",
       "      <th>5</th>\n",
       "      <td>volume_litr</td>\n",
       "      <td>0.214902</td>\n",
       "    </tr>\n",
       "    <tr>\n",
       "      <th>6</th>\n",
       "      <td>alcohol</td>\n",
       "      <td>0.019174</td>\n",
       "    </tr>\n",
       "  </tbody>\n",
       "</table>\n",
       "</div>"
      ],
      "text/plain": [
       "       feature  importance\n",
       "0     products    0.055909\n",
       "1       cities    0.239198\n",
       "2       promos    0.189731\n",
       "3       months    0.000228\n",
       "4         date    0.280858\n",
       "5  volume_litr    0.214902\n",
       "6      alcohol    0.019174"
      ]
     },
     "execution_count": 319,
     "metadata": {},
     "output_type": "execute_result"
    }
   ],
   "source": [
    "feature_importances = dict()\n",
    "\n",
    "feature_importances['products'] = 0\n",
    "feature_importances['cities'] = 0\n",
    "feature_importances['promos'] = 0\n",
    "feature_importances['months'] = 0\n",
    "\n",
    "for i in range(len(features)):\n",
    "    if 'product' in features[i]:\n",
    "        feature_importances['products'] = feature_importances['products'] + importances[i]\n",
    "    elif 'city' in features[i]:\n",
    "        feature_importances['cities'] = feature_importances['cities'] + importances[i]\n",
    "    elif features[i] in [str(x) for x in range(0,70)]:\n",
    "        feature_importances['promos'] = feature_importances['promos'] + importances[i]\n",
    "    elif 'month' in features[i]:\n",
    "        feature_importances['months'] = feature_importances['months'] + importances[i]\n",
    "    else:\n",
    "        feature_importances[features[i]] = importances[i]\n",
    "        \n",
    "        \n",
    "feature_importances = pd.DataFrame(feature_importances.items(), columns = ['feature','importance'])\n",
    "\n",
    "feature_importances"
   ]
  },
  {
   "cell_type": "code",
   "execution_count": 320,
   "id": "ecdae8f8",
   "metadata": {},
   "outputs": [
    {
     "data": {
      "text/plain": [
       "<AxesSubplot:xlabel='importance', ylabel='feature'>"
      ]
     },
     "execution_count": 320,
     "metadata": {},
     "output_type": "execute_result"
    },
    {
     "data": {
      "image/png": "[encoded data removed]",
      "text/plain": [
       "<Figure size 640x480 with 1 Axes>"
      ]
     },
     "metadata": {},
     "output_type": "display_data"
    }
   ],
   "source": [
    "sns.barplot(data = feature_importances, y = 'feature', x = 'importance', orient = 'h', color='b')"
   ]
  },
  {
   "cell_type": "markdown",
   "id": "23af55e5",
   "metadata": {},
   "source": [
    "### Градиентный бустинг"
   ]
  },
  {
   "cell_type": "code",
   "execution_count": 321,
   "id": "9399b5a0",
   "metadata": {},
   "outputs": [],
   "source": [
    "from sklearn.ensemble import GradientBoostingRegressor"
   ]
  },
  {
   "cell_type": "code",
   "execution_count": 322,
   "id": "343dae23",
   "metadata": {},
   "outputs": [],
   "source": [
    "param_grid_gbr = {'n_estimators':range(100,200,10), 'max_depth':range(4,6), 'min_samples_split':range(4,6)}\n",
    "\n",
    "kfold  = KFold(n_splits = 5, shuffle = True, random_state = 42)\n",
    "\n",
    "params = {'max_features':'sqrt',\n",
    "          'criterion':'squared_error',\n",
    "          'learning_rate':0.1,\n",
    "          'min_samples_leaf':8,\n",
    "          'verbose': True\n",
    "          }\n",
    "\n",
    "gbr = GradientBoostingRegressor(**params)\n",
    "\n",
    "grid_search_rf = GridSearchCV(gbr, param_grid_gbr, verbose = 4, cv = kfold, scoring = 'r2', n_jobs = -1)"
   ]
  },
  {
   "cell_type": "code",
   "execution_count": 323,
   "id": "e631878e",
   "metadata": {
    "scrolled": true
   },
   "outputs": [
    {
     "name": "stdout",
     "output_type": "stream",
     "text": [
      "Fitting 5 folds for each of 40 candidates, totalling 200 fits\n",
      "      Iter       Train Loss   Remaining Time \n",
      "         1         219.3339            5.09s\n",
      "         2         217.2785            4.69s\n",
      "         3         215.6456            4.66s\n",
      "         4         213.3041            4.45s\n",
      "         5         212.8955            4.29s\n",
      "         6         209.9147            4.10s\n",
      "         7         207.3721            4.07s\n",
      "         8         203.6626            4.04s\n",
      "         9         200.6845            4.04s\n",
      "        10         199.5958            4.01s\n",
      "        20         190.2183            3.62s\n",
      "        30         182.3152            3.35s\n",
      "        40         175.1159            3.13s\n",
      "        50         171.0478            2.87s\n",
      "        60         166.4575            2.64s\n",
      "        70         163.9921            2.44s\n",
      "        80         161.1693            2.24s\n",
      "        90         158.9826            2.03s\n",
      "       100         157.6755            1.82s\n"
     ]
    }
   ],
   "source": [
    "grid_result_gbr = grid_search_rf.fit(x_train,y_train)"
   ]
  },
  {
   "cell_type": "code",
   "execution_count": 324,
   "id": "d56051f1",
   "metadata": {},
   "outputs": [
    {
     "data": {
      "text/plain": [
       "0.2410761022864289"
      ]
     },
     "execution_count": 324,
     "metadata": {},
     "output_type": "execute_result"
    }
   ],
   "source": [
    "grid_result_gbr.best_score_"
   ]
  },
  {
   "cell_type": "code",
   "execution_count": 325,
   "id": "5c99f5dc",
   "metadata": {},
   "outputs": [
    {
     "data": {
      "text/plain": [
       "{'max_depth': 5, 'min_samples_split': 4, 'n_estimators': 190}"
      ]
     },
     "execution_count": 325,
     "metadata": {},
     "output_type": "execute_result"
    }
   ],
   "source": [
    "grid_result_gbr.best_params_"
   ]
  },
  {
   "cell_type": "code",
   "execution_count": 326,
   "id": "88b23226",
   "metadata": {},
   "outputs": [],
   "source": [
    "gbr = grid_result_gbr.best_estimator_"
   ]
  },
  {
   "cell_type": "code",
   "execution_count": 327,
   "id": "0330e46b",
   "metadata": {},
   "outputs": [
    {
     "name": "stdout",
     "output_type": "stream",
     "text": [
      "0.24145641546336327\n"
     ]
    }
   ],
   "source": [
    "y_pred = gbr.predict(x_test)\n",
    "print(r2_score(y_test,y_pred))"
   ]
  },
  {
   "cell_type": "code",
   "execution_count": 328,
   "id": "3f9ba299",
   "metadata": {},
   "outputs": [
    {
     "name": "stdout",
     "output_type": "stream",
     "text": [
      "0.36212480323381335\n"
     ]
    }
   ],
   "source": [
    "y_pred = gbr.predict(x_train)\n",
    "print(r2_score(y_train,y_pred))"
   ]
  },
  {
   "cell_type": "markdown",
   "id": "8e88dd19",
   "metadata": {},
   "source": [
    "### XGBoost"
   ]
  },
  {
   "cell_type": "code",
   "execution_count": 329,
   "id": "b2d16a3f",
   "metadata": {},
   "outputs": [],
   "source": [
    "import xgboost as xg"
   ]
  },
  {
   "cell_type": "code",
   "execution_count": 330,
   "id": "eebb381f",
   "metadata": {},
   "outputs": [],
   "source": [
    "param_grid_xgb = {'max_features':['sqrt'],\n",
    "                  'criterion':['mse'],\n",
    "                  'learning_rate':[0.1], \n",
    "                  'n_estimators':range(100,300,10), \n",
    "                  'max_depth':range(2,4), \n",
    "                  'min_samples_split':range(4,6),\n",
    "                  'verbose': [True]\n",
    "                 }\n",
    "\n",
    "kfold  = KFold(n_splits = 5, shuffle = True, random_state = 42)\n",
    "\n",
    "xgb = xg.XGBRegressor()\n",
    "\n",
    "grid_search_xgb = GridSearchCV(xgb, param_grid_xgb, verbose = 4, cv = kfold, scoring = 'r2', n_jobs = -1)"
   ]
  },
  {
   "cell_type": "code",
   "execution_count": 331,
   "id": "c25548f6",
   "metadata": {},
   "outputs": [
    {
     "name": "stdout",
     "output_type": "stream",
     "text": [
      "Fitting 5 folds for each of 80 candidates, totalling 400 fits\n",
      "[13:09:22] WARNING: C:/buildkite-agent/builds/buildkite-windows-cpu-autoscaling-group-i-030221e36e1a46bfb-1/xgboost/xgboost-ci-windows/src/learner.cc:767: \n",
      "Parameters: { \"criterion\", \"max_features\", \"min_samples_split\", \"verbose\" } are not used.\n",
      "\n"
     ]
    }
   ],
   "source": [
    "grid_result_xgb = grid_search_xgb.fit(x_train, y_train)"
   ]
  },
  {
   "cell_type": "code",
   "execution_count": 332,
   "id": "1070829f",
   "metadata": {},
   "outputs": [
    {
     "data": {
      "text/plain": [
       "0.2023688304642234"
      ]
     },
     "execution_count": 332,
     "metadata": {},
     "output_type": "execute_result"
    }
   ],
   "source": [
    "grid_result_xgb.best_score_"
   ]
  },
  {
   "cell_type": "code",
   "execution_count": 333,
   "id": "0369b1a2",
   "metadata": {},
   "outputs": [
    {
     "data": {
      "text/plain": [
       "{'criterion': 'mse',\n",
       " 'learning_rate': 0.1,\n",
       " 'max_depth': 3,\n",
       " 'max_features': 'sqrt',\n",
       " 'min_samples_split': 4,\n",
       " 'n_estimators': 150,\n",
       " 'verbose': True}"
      ]
     },
     "execution_count": 333,
     "metadata": {},
     "output_type": "execute_result"
    }
   ],
   "source": [
    "grid_result_xgb.best_params_"
   ]
  },
  {
   "cell_type": "code",
   "execution_count": 334,
   "id": "ea6f5bde",
   "metadata": {},
   "outputs": [],
   "source": [
    "xgb = grid_result_xgb.best_estimator_"
   ]
  },
  {
   "cell_type": "code",
   "execution_count": 335,
   "id": "56387852",
   "metadata": {},
   "outputs": [
    {
     "name": "stdout",
     "output_type": "stream",
     "text": [
      "0.21689378899761314\n",
      "0.33217125608310605\n"
     ]
    }
   ],
   "source": [
    "y_pred = xgb.predict(x_test)\n",
    "y_pred_train = xgb.predict(x_train)\n",
    "print(r2_score(y_test,y_pred))\n",
    "print(r2_score(y_train,y_pred_train))"
   ]
  },
  {
   "cell_type": "markdown",
   "id": "8bffee7b",
   "metadata": {},
   "source": [
    "# Результаты"
   ]
  },
  {
   "attachments": {},
   "cell_type": "markdown",
   "id": "8953835c",
   "metadata": {},
   "source": [
    "Наилучшую точность на тестовых данных показала модель на основании градиентного бустинга. Используя ее предскажем суммарный дополнительный объем, который принесла каждая акция за 2 года во всех городах"
   ]
  },
  {
   "cell_type": "code",
   "execution_count": 337,
   "id": "0f77a648",
   "metadata": {},
   "outputs": [],
   "source": [
    "promo_result = pd.read_parquet('src/promo.parquet', engine='fastparquet')"
   ]
  },
  {
   "cell_type": "code",
   "execution_count": 338,
   "id": "0786a7e0",
   "metadata": {},
   "outputs": [],
   "source": [
    "PROMOS_NUMBER = len(promo_result)"
   ]
  },
  {
   "cell_type": "code",
   "execution_count": 339,
   "id": "80b36c22",
   "metadata": {},
   "outputs": [
    {
     "name": "stdout",
     "output_type": "stream",
     "text": [
      "Турнир трех волшебников за метлы  :  26215.32255802136\n",
      "Клинок за пророк  :  25224.18377914579\n",
      "Квоффл в кольцо  :  25615.98705279904\n",
      "None  :  25324.837687612664\n",
      "Конфетки за метки  :  26194.17713541895\n",
      "Обмен любезностями  :  27157.715114540744\n",
      "Лучше золотой снитч в руках, чем гиппогриф в небе  :  26177.066858349077\n",
      "Сладкий бизнес при покупке от 15 литров в любом заведении  :  27411.515766905177\n",
      "Двойная сладость  :  25647.890810844114\n",
      "Минус 6 кнатов за безалкогольные напитки  :  0\n",
      "(Орден Феникса)  :  0\n",
      "(Орден Феникса)  :  34943.67635110209\n",
      "Сладкий бизнес ноябрь 1997  :  25419.470834040556\n",
      "Сладкий бизнес декабрь 1997  :  25299.478511302787\n",
      "Сладкий бизнес и лягушка + 15 литров напитков  :  26202.697068670626\n",
      "None  :  24363.65816522368\n",
      "МетлаПлюс  :  27067.012360838686\n",
      "Партнер заведений магазин Ханидьюкс 1997  :  36540.55223799705\n",
      "Партнер заведений магазин Ханидьюкс  :  64621.69423079015\n",
      "\"Все и сразу\" набор  :  27011.658139971398\n",
      "Преданный фанат спорта  :  26620.795981848223\n",
      "Магазин \"Зонко\" Двойная сладость  :  29961.648027856456\n",
      "ПРА СУПЕР ГАЛЕОН  :  35702.192743497246\n",
      "Партнер \"Чайный пакетик Розы ли\"  :  39988.55908558976\n",
      "None  :  26218.101085189264\n",
      "Минус кнат алкогольное  :  25049.623199954996\n",
      "None  :  26254.820821979745\n",
      "Скидка на Огненный виски 3 кната если на бармена сработали чары  :  26132.32981051741\n",
      " Скидка на Сливочное пиво 2 кната если на бармена сработали чары  :  26095.500597367092\n",
      "С литрушки на лягушку скидка на безалкогольные напитки если взял 15 литров алкоголя  :  0\n",
      "Библиотеки Куокворта читательский скидка  :  25872.098542398773\n",
      "С литрушки на лягушку 12 литров  :  29570.436887422133\n",
      "С литрушки на лягушку + Карликовые пушистики  :  26376.630441997517\n",
      "С литрушки на лягушку 16 литров  :  26174.96354346986\n",
      "С литрушки на лягушку + Карликовые пушистики  :  26215.32255802136\n",
      "Минус кнат на Чешую Дракона если бармен под чарами  :  26215.32530139842\n",
      "Выпить на удачу  :  25880.797108306626\n",
      "С литрушки на лягушку + Карликовые пушистики  :  26204.096513531465\n",
      "Напиток и омолаживающее зелье  :  26207.98688877587\n",
      "С литрушки на лягушку + Карликовые пушистики  :  26271.76338125104\n",
      "С литрушки на лягушку + Карликовые пушистики  :  26215.32255802136\n",
      "С литрушки на лягушку  :  25657.139553919285\n",
      "С литрушки на лягушку  :  29682.17824388939\n",
      "С литрушки на лягушку  :  26555.80818397151\n",
      "С литрушки на лягушку  :  37718.90520732732\n",
      "С литрушки на лягушку  :  26774.13476550448\n",
      "С литрушки на лягушку  :  26190.707707033143\n",
      "С литрушки на лягушку  :  26282.300875324334\n",
      "С литрушки на лягушку  :  28167.75208689485\n",
      "С литрушки на лягушку  :  32031.39667236907\n",
      "С литрушки на лягушку  :  37050.396036046055\n",
      "Подписка на \"Ежедневный пророк\" + скидка от 15 литров напитка   :  27057.183439446668\n",
      "С литрушки на лягушку  :  26070.610984916024\n",
      "С литрушки на лягушку  :  26936.056739756383\n",
      "Гринготс разный пол (без чар, трансфигурации и оборотного зелья)  :  26126.870221368226\n",
      "\"Министерство магии\" только на алкоголь  :  26248.913173657296\n",
      "Библиотеки Куокворта купоны на скидку  :  26332.78747682621\n",
      "Настоящий мародер  :  26426.07259469327\n",
      "Флориш и Блоттс май   :  26265.787415251554\n",
      "Флориш и Блоттс июнь  :  26328.73030906621\n",
      "Back to Hogwarts  :  26204.262489050583\n",
      "Газета \"Придира\"  :  25898.913601109613\n",
      "Лавка Оливандера октябрь  :  27485.276042180165\n",
      "Акция при поимке Пикси от 15 литров напитков  :  26248.940798484342\n",
      "Газета \"Придира\" -2 кната не более 25 литров  :  28283.50594411523\n"
     ]
    }
   ],
   "source": [
    "promos_list = [i for i in range(0,PROMOS_NUMBER)]\n",
    "\n",
    "effects_sum = 0\n",
    "\n",
    "for promo in range(0,PROMOS_NUMBER):\n",
    "    promo_df = x.copy()\n",
    "    promo_df[[str(col) for col in promos_list[:promo]]]=0\n",
    "    promo_df[[str(col) for col in promos_list[promo+1:]]]=0\n",
    "    promo_df = promo_df[promo_df[str(promo)]!=0]\n",
    " \n",
    "    if len(promo_df[promo_df[str(promo)]>0]) == 0:\n",
    "        print(promo_result.iloc[promo]['Название'],' : ',0)\n",
    "        continue\n",
    "    \n",
    "    #Нормализуем данные для расчета\n",
    "    promo_df_norm = norm.transform(promo_df)\n",
    "    promo_df = pd.DataFrame(promo_df_norm, columns = x.columns)\n",
    "\n",
    "\n",
    "    effect_pred = gbr.predict(promo_df)\n",
    "    effects_sum += effect_pred.sum()\n",
    "\n",
    "    print(promo_result.iloc[promo]['Название'],' : ',effect_pred.sum())"
   ]
  },
  {
   "cell_type": "markdown",
   "metadata": {},
   "source": []
  },
  {
   "attachments": {},
   "cell_type": "markdown",
   "id": "4d5efe79",
   "metadata": {},
   "source": [
    "# Все посчитали, все получилось"
   ]
  }
 ],
 "metadata": {
  "kernelspec": {
   "display_name": "base",
   "language": "python",
   "name": "python3"
  },
  "language_info": {
   "codemirror_mode": {
    "name": "ipython",
    "version": 3
   },
   "file_extension": ".py",
   "mimetype": "text/x-python",
   "name": "python",
   "nbconvert_exporter": "python",
   "pygments_lexer": "ipython3",
   "version": "3.9.13"
  },
  "vscode": {
   "interpreter": {
    "hash": "c8b037648beba38f7a3f1e3864ce280b1bc2ebec91ab947191d22f3607d2285b"
   }
  }
 },
 "nbformat": 4,
 "nbformat_minor": 5
}
